{
 "cells": [
  {
   "cell_type": "code",
   "execution_count": 10,
   "metadata": {},
   "outputs": [],
   "source": [
    "import os\n",
    "import glob\n",
    "import random\n",
    "import cv2\n",
    "import numpy as np\n",
    "import multiprocessing\n",
    "from functools import partial"
   ]
  },
  {
   "cell_type": "code",
   "execution_count": 11,
   "metadata": {},
   "outputs": [],
   "source": [
    "image_folder = r\"C:\\Users\\lukeasargen\\projects\\uas_misc\\cam_calibration\\images\\gopro_session_5_1080_w_lr/*.jpg\"\n",
    "files = glob.glob(image_folder)"
   ]
  },
  {
   "cell_type": "code",
   "execution_count": 12,
   "metadata": {},
   "outputs": [],
   "source": [
    "def process_image(filename, width, height):\n",
    "    img = cv2.imread(filename)\n",
    "    if img is None:  # Check if the file could be opened\n",
    "        print(\"Image failed to load :\", filename)\n",
    "        return None\n",
    "    # Convert to grayscale\n",
    "    gray = cv2.cvtColor(img, cv2.COLOR_BGR2GRAY)\n",
    "    # Find the chess board corners\n",
    "    ret, corners = cv2.findChessboardCorners(gray, (width, height), None)\n",
    "    # If found, add object points, image points (after refining them)\n",
    "    if ret:\n",
    "        # Termination criteria for finding the sub pixel coordinates of corners (cornerSubPix)\n",
    "        criteria = (cv2.TERM_CRITERIA_MAX_ITER + cv2.TERM_CRITERIA_EPS, 60, 0.001)\n",
    "        # Increase the pixel location accuracy\n",
    "        corners2 = cv2.cornerSubPix(gray, corners, (11, 11), (-1, -1), criteria)\n",
    "        return corners2\n",
    "    print(\"No chessboard : \", filename)\n",
    "    os.remove(filename)\n",
    "    return None"
   ]
  },
  {
   "cell_type": "code",
   "execution_count": 13,
   "metadata": {},
   "outputs": [
    {
     "data": {
      "text/plain": [
       "127"
      ]
     },
     "execution_count": 13,
     "metadata": {},
     "output_type": "execute_result"
    }
   ],
   "source": [
    "# internal corners of the grid\n",
    "width, height = 6, 4\n",
    "used_files = []\n",
    "imgpoints = []  # 2d points in image plane\n",
    "for f in files:\n",
    "    pixel_points = process_image(f, width=width, height=height)\n",
    "    if pixel_points is not None:\n",
    "        used_files.append(f)\n",
    "        imgpoints.append(pixel_points)\n",
    "len(imgpoints)"
   ]
  },
  {
   "cell_type": "code",
   "execution_count": 14,
   "metadata": {},
   "outputs": [
    {
     "data": {
      "text/plain": [
       "127"
      ]
     },
     "execution_count": 14,
     "metadata": {},
     "output_type": "execute_result"
    }
   ],
   "source": [
    "# We assume the checker pattern is kept in the Z=0 plane and the camera is moved and rotated\n",
    "# Prepare object points, like (0,0,0), (1,0,0), (2,0,0) ....,(6,5,0)\n",
    "objp = np.zeros((height*width, 3), np.float32)\n",
    "objp[:, :2] = np.mgrid[0:width, 0:height].T.reshape(-1, 2)\n",
    "\n",
    "# Scale the 3d points to the actual dimensinos\n",
    "squareSize = 36.5e-3  # meter\n",
    "# objp = objp*squareSize\n",
    "objpoints = []  # 3d point in  world space\n",
    "[objpoints.append(objp) for i in range(len(imgpoints))]\n",
    "len(objpoints)"
   ]
  },
  {
   "cell_type": "code",
   "execution_count": 15,
   "metadata": {},
   "outputs": [
    {
     "name": "stdout",
     "output_type": "stream",
     "text": [
      "RMS: 0.5094508815623193\n"
     ]
    }
   ],
   "source": [
    "runs = 1\n",
    "mtx_sum = np.zeros((3,3))\n",
    "dist_sum = np.zeros((1,5))\n",
    "for r in range(runs):\n",
    "    batch = 127\n",
    "    idxs = random.sample(list(range(len(objpoints))), batch)\n",
    "    batch_obj, batch_img = [], []\n",
    "    for i in idxs:\n",
    "        batch_obj.append(objpoints[i])\n",
    "        batch_img.append(imgpoints[i])\n",
    "    img = cv2.imread(files[0])\n",
    "    rms, mtx, dist, rvecs, tvecs = cv2.calibrateCamera(batch_obj, batch_img, img.shape[1::-1], None, None)\n",
    "    mtx_sum += mtx\n",
    "    dist_sum += dist\n",
    "    print(\"RMS:\", rms)\n",
    "    # print(\"Camera Matrix:\\n\", mtx)\n",
    "    # print(\"Distortion Coefficients:\\n\", dist.ravel())"
   ]
  },
  {
   "cell_type": "code",
   "execution_count": 16,
   "metadata": {},
   "outputs": [
    {
     "name": "stdout",
     "output_type": "stream",
     "text": [
      "Camera Matrix:\n",
      " [[431.87822876   0.         433.16900824]\n",
      " [  0.         429.71615176 241.94768897]\n",
      " [  0.           0.           1.        ]]\n",
      "Distortion Coefficients:\n",
      " [-0.2166708   0.05382875  0.00065365  0.00136901 -0.00666539]\n"
     ]
    }
   ],
   "source": [
    "mtx = mtx_sum/runs\n",
    "dist = dist_sum/runs\n",
    "print(\"Camera Matrix:\\n\", mtx)\n",
    "print(\"Distortion Coefficients:\\n\", dist.ravel())"
   ]
  },
  {
   "cell_type": "code",
   "execution_count": 17,
   "metadata": {},
   "outputs": [],
   "source": [
    "errors = np.zeros(batch)\n",
    "for i in range(len(rvecs)):\n",
    "    imgpoints2, _ = cv2.projectPoints(objpoints[i], rvecs[i], tvecs[i], mtx, dist)\n",
    "    error = cv2.norm(imgpoints[i], imgpoints2, cv2.NORM_L2)/len(imgpoints2)\n",
    "    errors[i] = error"
   ]
  },
  {
   "cell_type": "code",
   "execution_count": 18,
   "metadata": {},
   "outputs": [
    {
     "name": "stdout",
     "output_type": "stream",
     "text": [
      "C:\\Users\\lukeasargen\\projects\\uas_misc\\cam_calibration\\images\\gopro_session_5_1080_w_lr\\2802.jpg 98.74679183871389\n",
      "C:\\Users\\lukeasargen\\projects\\uas_misc\\cam_calibration\\images\\gopro_session_5_1080_w_lr\\1759.jpg 94.29656015556913\n",
      "C:\\Users\\lukeasargen\\projects\\uas_misc\\cam_calibration\\images\\gopro_session_5_1080_w_lr\\1237.jpg 74.19486637815584\n",
      "C:\\Users\\lukeasargen\\projects\\uas_misc\\cam_calibration\\images\\gopro_session_5_1080_w_lr\\1417.jpg 73.84593485211686\n",
      "C:\\Users\\lukeasargen\\projects\\uas_misc\\cam_calibration\\images\\gopro_session_5_1080_w_lr\\1819.jpg 69.23196182765811\n",
      "C:\\Users\\lukeasargen\\projects\\uas_misc\\cam_calibration\\images\\gopro_session_5_1080_w_lr\\2209.jpg 66.90780631043681\n",
      "C:\\Users\\lukeasargen\\projects\\uas_misc\\cam_calibration\\images\\gopro_session_5_1080_w_lr\\1130.jpg 65.88019540051518\n",
      "C:\\Users\\lukeasargen\\projects\\uas_misc\\cam_calibration\\images\\gopro_session_5_1080_w_lr\\2798.jpg 65.76936088470605\n",
      "C:\\Users\\lukeasargen\\projects\\uas_misc\\cam_calibration\\images\\gopro_session_5_1080_w_lr\\4415.jpg 63.45167594225637\n",
      "C:\\Users\\lukeasargen\\projects\\uas_misc\\cam_calibration\\images\\gopro_session_5_1080_w_lr\\2518.jpg 63.275384510189376\n",
      "C:\\Users\\lukeasargen\\projects\\uas_misc\\cam_calibration\\images\\gopro_session_5_1080_w_lr\\2904.jpg 61.607372411379735\n",
      "C:\\Users\\lukeasargen\\projects\\uas_misc\\cam_calibration\\images\\gopro_session_5_1080_w_lr\\5249.jpg 61.16239630849708\n",
      "C:\\Users\\lukeasargen\\projects\\uas_misc\\cam_calibration\\images\\gopro_session_5_1080_w_lr\\1279.jpg 60.582014991178994\n",
      "C:\\Users\\lukeasargen\\projects\\uas_misc\\cam_calibration\\images\\gopro_session_5_1080_w_lr\\1988.jpg 58.65835067354638\n",
      "C:\\Users\\lukeasargen\\projects\\uas_misc\\cam_calibration\\images\\gopro_session_5_1080_w_lr\\4818.jpg 58.28033444363859\n",
      "C:\\Users\\lukeasargen\\projects\\uas_misc\\cam_calibration\\images\\gopro_session_5_1080_w_lr\\6498.jpg 57.76455119648772\n",
      "C:\\Users\\lukeasargen\\projects\\uas_misc\\cam_calibration\\images\\gopro_session_5_1080_w_lr\\4737.jpg 57.3318354783529\n",
      "C:\\Users\\lukeasargen\\projects\\uas_misc\\cam_calibration\\images\\gopro_session_5_1080_w_lr\\4783.jpg 57.04640913242466\n",
      "C:\\Users\\lukeasargen\\projects\\uas_misc\\cam_calibration\\images\\gopro_session_5_1080_w_lr\\1738.jpg 56.01032752987763\n",
      "C:\\Users\\lukeasargen\\projects\\uas_misc\\cam_calibration\\images\\gopro_session_5_1080_w_lr\\2383.jpg 54.71609577431526\n",
      "C:\\Users\\lukeasargen\\projects\\uas_misc\\cam_calibration\\images\\gopro_session_5_1080_w_lr\\1897.jpg 53.07616065241044\n",
      "C:\\Users\\lukeasargen\\projects\\uas_misc\\cam_calibration\\images\\gopro_session_5_1080_w_lr\\622.jpg 51.453018017788395\n",
      "C:\\Users\\lukeasargen\\projects\\uas_misc\\cam_calibration\\images\\gopro_session_5_1080_w_lr\\5654.jpg 50.84140987312466\n",
      "C:\\Users\\lukeasargen\\projects\\uas_misc\\cam_calibration\\images\\gopro_session_5_1080_w_lr\\6065.jpg 49.78235298143838\n",
      "C:\\Users\\lukeasargen\\projects\\uas_misc\\cam_calibration\\images\\gopro_session_5_1080_w_lr\\4547.jpg 48.5896045509908\n",
      "C:\\Users\\lukeasargen\\projects\\uas_misc\\cam_calibration\\images\\gopro_session_5_1080_w_lr\\6557.jpg 47.43507594565961\n",
      "C:\\Users\\lukeasargen\\projects\\uas_misc\\cam_calibration\\images\\gopro_session_5_1080_w_lr\\997.jpg 47.20999670576426\n",
      "C:\\Users\\lukeasargen\\projects\\uas_misc\\cam_calibration\\images\\gopro_session_5_1080_w_lr\\1779.jpg 46.86023001267378\n",
      "C:\\Users\\lukeasargen\\projects\\uas_misc\\cam_calibration\\images\\gopro_session_5_1080_w_lr\\1053.jpg 46.05273527381399\n",
      "C:\\Users\\lukeasargen\\projects\\uas_misc\\cam_calibration\\images\\gopro_session_5_1080_w_lr\\4927.jpg 45.467060864423765\n",
      "C:\\Users\\lukeasargen\\projects\\uas_misc\\cam_calibration\\images\\gopro_session_5_1080_w_lr\\2137.jpg 45.123371467617396\n",
      "C:\\Users\\lukeasargen\\projects\\uas_misc\\cam_calibration\\images\\gopro_session_5_1080_w_lr\\4509.jpg 44.78333808604117\n",
      "C:\\Users\\lukeasargen\\projects\\uas_misc\\cam_calibration\\images\\gopro_session_5_1080_w_lr\\2498.jpg 44.63207382779179\n",
      "C:\\Users\\lukeasargen\\projects\\uas_misc\\cam_calibration\\images\\gopro_session_5_1080_w_lr\\582.jpg 44.592745808916625\n",
      "C:\\Users\\lukeasargen\\projects\\uas_misc\\cam_calibration\\images\\gopro_session_5_1080_w_lr\\5459.jpg 42.18103802081947\n",
      "C:\\Users\\lukeasargen\\projects\\uas_misc\\cam_calibration\\images\\gopro_session_5_1080_w_lr\\505.jpg 41.55836801255975\n",
      "C:\\Users\\lukeasargen\\projects\\uas_misc\\cam_calibration\\images\\gopro_session_5_1080_w_lr\\4077.jpg 41.25013799369983\n",
      "C:\\Users\\lukeasargen\\projects\\uas_misc\\cam_calibration\\images\\gopro_session_5_1080_w_lr\\1799.jpg 41.18540739727491\n",
      "C:\\Users\\lukeasargen\\projects\\uas_misc\\cam_calibration\\images\\gopro_session_5_1080_w_lr\\3115.jpg 41.04472470768669\n",
      "C:\\Users\\lukeasargen\\projects\\uas_misc\\cam_calibration\\images\\gopro_session_5_1080_w_lr\\5280.jpg 40.682909382768166\n",
      "C:\\Users\\lukeasargen\\projects\\uas_misc\\cam_calibration\\images\\gopro_session_5_1080_w_lr\\6538.jpg 40.65162011222752\n",
      "C:\\Users\\lukeasargen\\projects\\uas_misc\\cam_calibration\\images\\gopro_session_5_1080_w_lr\\1599.jpg 40.51521574703755\n",
      "C:\\Users\\lukeasargen\\projects\\uas_misc\\cam_calibration\\images\\gopro_session_5_1080_w_lr\\4058.jpg 40.046607454287034\n",
      "C:\\Users\\lukeasargen\\projects\\uas_misc\\cam_calibration\\images\\gopro_session_5_1080_w_lr\\4176.jpg 39.25236560225958\n",
      "C:\\Users\\lukeasargen\\projects\\uas_misc\\cam_calibration\\images\\gopro_session_5_1080_w_lr\\4745.jpg 38.50269696158153\n",
      "C:\\Users\\lukeasargen\\projects\\uas_misc\\cam_calibration\\images\\gopro_session_5_1080_w_lr\\6478.jpg 38.4251261305052\n",
      "C:\\Users\\lukeasargen\\projects\\uas_misc\\cam_calibration\\images\\gopro_session_5_1080_w_lr\\1962.jpg 37.34373811247631\n",
      "C:\\Users\\lukeasargen\\projects\\uas_misc\\cam_calibration\\images\\gopro_session_5_1080_w_lr\\4277.jpg 37.327026406226345\n",
      "C:\\Users\\lukeasargen\\projects\\uas_misc\\cam_calibration\\images\\gopro_session_5_1080_w_lr\\5152.jpg 37.21319706140972\n",
      "C:\\Users\\lukeasargen\\projects\\uas_misc\\cam_calibration\\images\\gopro_session_5_1080_w_lr\\1751.jpg 36.43263115333797\n",
      "C:\\Users\\lukeasargen\\projects\\uas_misc\\cam_calibration\\images\\gopro_session_5_1080_w_lr\\757.jpg 35.87721675780777\n",
      "C:\\Users\\lukeasargen\\projects\\uas_misc\\cam_calibration\\images\\gopro_session_5_1080_w_lr\\5238.jpg 35.36257240154535\n",
      "C:\\Users\\lukeasargen\\projects\\uas_misc\\cam_calibration\\images\\gopro_session_5_1080_w_lr\\4358.jpg 35.29604597414531\n",
      "C:\\Users\\lukeasargen\\projects\\uas_misc\\cam_calibration\\images\\gopro_session_5_1080_w_lr\\4639.jpg 35.08609696502121\n",
      "C:\\Users\\lukeasargen\\projects\\uas_misc\\cam_calibration\\images\\gopro_session_5_1080_w_lr\\4032.jpg 34.92383866747111\n",
      "C:\\Users\\lukeasargen\\projects\\uas_misc\\cam_calibration\\images\\gopro_session_5_1080_w_lr\\4661.jpg 34.69569594658919\n",
      "C:\\Users\\lukeasargen\\projects\\uas_misc\\cam_calibration\\images\\gopro_session_5_1080_w_lr\\603.jpg 34.37174481507085\n",
      "C:\\Users\\lukeasargen\\projects\\uas_misc\\cam_calibration\\images\\gopro_session_5_1080_w_lr\\3216.jpg 33.43304585787215\n",
      "C:\\Users\\lukeasargen\\projects\\uas_misc\\cam_calibration\\images\\gopro_session_5_1080_w_lr\\1455.jpg 33.08686394422275\n",
      "C:\\Users\\lukeasargen\\projects\\uas_misc\\cam_calibration\\images\\gopro_session_5_1080_w_lr\\4395.jpg 33.02684896475619\n",
      "C:\\Users\\lukeasargen\\projects\\uas_misc\\cam_calibration\\images\\gopro_session_5_1080_w_lr\\2521.jpg 32.999882774903284\n",
      "C:\\Users\\lukeasargen\\projects\\uas_misc\\cam_calibration\\images\\gopro_session_5_1080_w_lr\\1437.jpg 32.914639730030714\n",
      "C:\\Users\\lukeasargen\\projects\\uas_misc\\cam_calibration\\images\\gopro_session_5_1080_w_lr\\1261.jpg 31.58970319670844\n",
      "C:\\Users\\lukeasargen\\projects\\uas_misc\\cam_calibration\\images\\gopro_session_5_1080_w_lr\\2158.jpg 31.16437103708942\n",
      "C:\\Users\\lukeasargen\\projects\\uas_misc\\cam_calibration\\images\\gopro_session_5_1080_w_lr\\2169.jpg 29.594319170125857\n",
      "C:\\Users\\lukeasargen\\projects\\uas_misc\\cam_calibration\\images\\gopro_session_5_1080_w_lr\\4283.jpg 29.270455561463383\n",
      "C:\\Users\\lukeasargen\\projects\\uas_misc\\cam_calibration\\images\\gopro_session_5_1080_w_lr\\6215.jpg 29.23041160189707\n",
      "C:\\Users\\lukeasargen\\projects\\uas_misc\\cam_calibration\\images\\gopro_session_5_1080_w_lr\\4993.jpg 29.13728185747122\n",
      "C:\\Users\\lukeasargen\\projects\\uas_misc\\cam_calibration\\images\\gopro_session_5_1080_w_lr\\6717.jpg 28.94917675759812\n",
      "C:\\Users\\lukeasargen\\projects\\uas_misc\\cam_calibration\\images\\gopro_session_5_1080_w_lr\\3098.jpg 28.90757054632481\n",
      "C:\\Users\\lukeasargen\\projects\\uas_misc\\cam_calibration\\images\\gopro_session_5_1080_w_lr\\2539.jpg 27.962702788858447\n",
      "C:\\Users\\lukeasargen\\projects\\uas_misc\\cam_calibration\\images\\gopro_session_5_1080_w_lr\\6757.jpg 27.23171374333504\n",
      "C:\\Users\\lukeasargen\\projects\\uas_misc\\cam_calibration\\images\\gopro_session_5_1080_w_lr\\5076.jpg 27.157999560530428\n",
      "C:\\Users\\lukeasargen\\projects\\uas_misc\\cam_calibration\\images\\gopro_session_5_1080_w_lr\\4319.jpg 27.094947505487912\n",
      "C:\\Users\\lukeasargen\\projects\\uas_misc\\cam_calibration\\images\\gopro_session_5_1080_w_lr\\679.jpg 27.05164294596619\n",
      "C:\\Users\\lukeasargen\\projects\\uas_misc\\cam_calibration\\images\\gopro_session_5_1080_w_lr\\6777.jpg 25.758620253983565\n",
      "C:\\Users\\lukeasargen\\projects\\uas_misc\\cam_calibration\\images\\gopro_session_5_1080_w_lr\\6518.jpg 25.561161654990343\n",
      "C:\\Users\\lukeasargen\\projects\\uas_misc\\cam_calibration\\images\\gopro_session_5_1080_w_lr\\4118.jpg 25.22410420551933\n",
      "C:\\Users\\lukeasargen\\projects\\uas_misc\\cam_calibration\\images\\gopro_session_5_1080_w_lr\\5159.jpg 23.78766050351008\n",
      "C:\\Users\\lukeasargen\\projects\\uas_misc\\cam_calibration\\images\\gopro_session_5_1080_w_lr\\4623.jpg 23.750357624851446\n",
      "C:\\Users\\lukeasargen\\projects\\uas_misc\\cam_calibration\\images\\gopro_session_5_1080_w_lr\\5115.jpg 23.486601957264227\n",
      "C:\\Users\\lukeasargen\\projects\\uas_misc\\cam_calibration\\images\\gopro_session_5_1080_w_lr\\4306.jpg 23.384577559929866\n",
      "C:\\Users\\lukeasargen\\projects\\uas_misc\\cam_calibration\\images\\gopro_session_5_1080_w_lr\\5425.jpg 23.023468390233173\n",
      "C:\\Users\\lukeasargen\\projects\\uas_misc\\cam_calibration\\images\\gopro_session_5_1080_w_lr\\5137.jpg 22.87326160792698\n",
      "C:\\Users\\lukeasargen\\projects\\uas_misc\\cam_calibration\\images\\gopro_session_5_1080_w_lr\\561.jpg 22.854709719787085\n",
      "C:\\Users\\lukeasargen\\projects\\uas_misc\\cam_calibration\\images\\gopro_session_5_1080_w_lr\\733.jpg 22.418204435179927\n",
      "C:\\Users\\lukeasargen\\projects\\uas_misc\\cam_calibration\\images\\gopro_session_5_1080_w_lr\\5264.jpg 22.199826842601325\n",
      "C:\\Users\\lukeasargen\\projects\\uas_misc\\cam_calibration\\images\\gopro_session_5_1080_w_lr\\4139.jpg 21.423228444417376\n",
      "C:\\Users\\lukeasargen\\projects\\uas_misc\\cam_calibration\\images\\gopro_session_5_1080_w_lr\\6109.jpg 20.712385090686002\n",
      "C:\\Users\\lukeasargen\\projects\\uas_misc\\cam_calibration\\images\\gopro_session_5_1080_w_lr\\4833.jpg 19.93489652469221\n",
      "C:\\Users\\lukeasargen\\projects\\uas_misc\\cam_calibration\\images\\gopro_session_5_1080_w_lr\\6119.jpg 19.79313787360655\n",
      "C:\\Users\\lukeasargen\\projects\\uas_misc\\cam_calibration\\images\\gopro_session_5_1080_w_lr\\4615.jpg 19.663883633287313\n",
      "C:\\Users\\lukeasargen\\projects\\uas_misc\\cam_calibration\\images\\gopro_session_5_1080_w_lr\\6196.jpg 18.92948301051877\n",
      "C:\\Users\\lukeasargen\\projects\\uas_misc\\cam_calibration\\images\\gopro_session_5_1080_w_lr\\6729.jpg 18.53886067999507\n",
      "C:\\Users\\lukeasargen\\projects\\uas_misc\\cam_calibration\\images\\gopro_session_5_1080_w_lr\\709.jpg 18.525598601124234\n",
      "C:\\Users\\lukeasargen\\projects\\uas_misc\\cam_calibration\\images\\gopro_session_5_1080_w_lr\\5058.jpg 18.45928452624622\n",
      "C:\\Users\\lukeasargen\\projects\\uas_misc\\cam_calibration\\images\\gopro_session_5_1080_w_lr\\777.jpg 18.44679663186508\n",
      "C:\\Users\\lukeasargen\\projects\\uas_misc\\cam_calibration\\images\\gopro_session_5_1080_w_lr\\6236.jpg 18.168561508943437\n",
      "C:\\Users\\lukeasargen\\projects\\uas_misc\\cam_calibration\\images\\gopro_session_5_1080_w_lr\\4880.jpg 17.73628294538683\n",
      "C:\\Users\\lukeasargen\\projects\\uas_misc\\cam_calibration\\images\\gopro_session_5_1080_w_lr\\4575.jpg 17.418312302413476\n",
      "C:\\Users\\lukeasargen\\projects\\uas_misc\\cam_calibration\\images\\gopro_session_5_1080_w_lr\\2194.jpg 16.97852363661551\n",
      "C:\\Users\\lukeasargen\\projects\\uas_misc\\cam_calibration\\images\\gopro_session_5_1080_w_lr\\1637.jpg 16.442653371501354\n",
      "C:\\Users\\lukeasargen\\projects\\uas_misc\\cam_calibration\\images\\gopro_session_5_1080_w_lr\\497.jpg 16.03983640427081\n",
      "C:\\Users\\lukeasargen\\projects\\uas_misc\\cam_calibration\\images\\gopro_session_5_1080_w_lr\\781.jpg 15.68549834849748\n",
      "C:\\Users\\lukeasargen\\projects\\uas_misc\\cam_calibration\\images\\gopro_session_5_1080_w_lr\\4497.jpg 15.68179831721792\n",
      "C:\\Users\\lukeasargen\\projects\\uas_misc\\cam_calibration\\images\\gopro_session_5_1080_w_lr\\675.jpg 15.269044462767157\n",
      "C:\\Users\\lukeasargen\\projects\\uas_misc\\cam_calibration\\images\\gopro_session_5_1080_w_lr\\4849.jpg 14.892176448319704\n",
      "C:\\Users\\lukeasargen\\projects\\uas_misc\\cam_calibration\\images\\gopro_session_5_1080_w_lr\\3179.jpg 14.14423152080125\n",
      "C:\\Users\\lukeasargen\\projects\\uas_misc\\cam_calibration\\images\\gopro_session_5_1080_w_lr\\1878.jpg 13.73013717037017\n",
      "C:\\Users\\lukeasargen\\projects\\uas_misc\\cam_calibration\\images\\gopro_session_5_1080_w_lr\\5179.jpg 13.237546614107606\n",
      "C:\\Users\\lukeasargen\\projects\\uas_misc\\cam_calibration\\images\\gopro_session_5_1080_w_lr\\4597.jpg 12.91887635661683\n",
      "C:\\Users\\lukeasargen\\projects\\uas_misc\\cam_calibration\\images\\gopro_session_5_1080_w_lr\\4419.jpg 12.520910120861307\n",
      "C:\\Users\\lukeasargen\\projects\\uas_misc\\cam_calibration\\images\\gopro_session_5_1080_w_lr\\6801.jpg 11.740181499398403\n",
      "C:\\Users\\lukeasargen\\projects\\uas_misc\\cam_calibration\\images\\gopro_session_5_1080_w_lr\\4522.jpg 11.633922932840072\n",
      "C:\\Users\\lukeasargen\\projects\\uas_misc\\cam_calibration\\images\\gopro_session_5_1080_w_lr\\4120.jpg 11.584800642273995\n",
      "C:\\Users\\lukeasargen\\projects\\uas_misc\\cam_calibration\\images\\gopro_session_5_1080_w_lr\\4771.jpg 11.17124801318348\n",
      "C:\\Users\\lukeasargen\\projects\\uas_misc\\cam_calibration\\images\\gopro_session_5_1080_w_lr\\6272.jpg 10.96341628258662\n",
      "C:\\Users\\lukeasargen\\projects\\uas_misc\\cam_calibration\\images\\gopro_session_5_1080_w_lr\\5087.jpg 10.784344098082551\n",
      "C:\\Users\\lukeasargen\\projects\\uas_misc\\cam_calibration\\images\\gopro_session_5_1080_w_lr\\5319.jpg 10.174987892845541\n",
      "C:\\Users\\lukeasargen\\projects\\uas_misc\\cam_calibration\\images\\gopro_session_5_1080_w_lr\\4878.jpg 10.047385885113277\n",
      "C:\\Users\\lukeasargen\\projects\\uas_misc\\cam_calibration\\images\\gopro_session_5_1080_w_lr\\1037.jpg 9.665243322576051\n",
      "C:\\Users\\lukeasargen\\projects\\uas_misc\\cam_calibration\\images\\gopro_session_5_1080_w_lr\\5019.jpg 8.754212949494397\n",
      "C:\\Users\\lukeasargen\\projects\\uas_misc\\cam_calibration\\images\\gopro_session_5_1080_w_lr\\529.jpg 7.5101387063952965\n",
      "C:\\Users\\lukeasargen\\projects\\uas_misc\\cam_calibration\\images\\gopro_session_5_1080_w_lr\\5920.jpg 7.4660644189296805\n",
      "C:\\Users\\lukeasargen\\projects\\uas_misc\\cam_calibration\\images\\gopro_session_5_1080_w_lr\\1958.jpg 6.652905899822113\n",
      "C:\\Users\\lukeasargen\\projects\\uas_misc\\cam_calibration\\images\\gopro_session_5_1080_w_lr\\175.jpg 5.7612542968129725\n",
      "C:\\Users\\lukeasargen\\projects\\uas_misc\\cam_calibration\\images\\gopro_session_5_1080_w_lr\\4377.jpg 0.05588086820103452\n"
     ]
    }
   ],
   "source": [
    "for i in reversed(np.argsort(errors)):\n",
    "    full_idx = idxs[i]\n",
    "    print(files[full_idx], errors[i])"
   ]
  }
 ],
 "metadata": {
  "kernelspec": {
   "display_name": "Python 3.9.15 ('pt113')",
   "language": "python",
   "name": "python3"
  },
  "language_info": {
   "codemirror_mode": {
    "name": "ipython",
    "version": 3
   },
   "file_extension": ".py",
   "mimetype": "text/x-python",
   "name": "python",
   "nbconvert_exporter": "python",
   "pygments_lexer": "ipython3",
   "version": "3.9.15"
  },
  "orig_nbformat": 4,
  "vscode": {
   "interpreter": {
    "hash": "02ae8a917aa381e4368c55777f1a65177308c50cf8d1fb5256f849424530e048"
   }
  }
 },
 "nbformat": 4,
 "nbformat_minor": 2
}
