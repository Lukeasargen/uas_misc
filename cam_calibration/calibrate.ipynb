{
 "cells": [
  {
   "cell_type": "code",
   "execution_count": 46,
   "metadata": {},
   "outputs": [],
   "source": [
    "import os\n",
    "import glob\n",
    "import random\n",
    "import cv2\n",
    "import numpy as np\n",
    "import multiprocessing\n",
    "from functools import partial"
   ]
  },
  {
   "cell_type": "code",
   "execution_count": 47,
   "metadata": {},
   "outputs": [],
   "source": [
    "image_folder = \"images/gopro_hero_3_1080_w/*.jpg\"\n",
    "files = glob.glob(image_folder)"
   ]
  },
  {
   "cell_type": "code",
   "execution_count": 48,
   "metadata": {},
   "outputs": [],
   "source": [
    "def process_image(filename, width, height):\n",
    "    img = cv2.imread(filename)\n",
    "    if img is None:  # Check if the file could be opened\n",
    "        print(\"Image failed to load :\", filename)\n",
    "        return None\n",
    "    # Convert to grayscale\n",
    "    gray = cv2.cvtColor(img, cv2.COLOR_BGR2GRAY)\n",
    "    # Find the chess board corners\n",
    "    ret, corners = cv2.findChessboardCorners(gray, (width, height), None)\n",
    "    # If found, add object points, image points (after refining them)\n",
    "    if ret:\n",
    "        # Termination criteria for finding the sub pixel coordinates of corners (cornerSubPix)\n",
    "        criteria = (cv2.TERM_CRITERIA_MAX_ITER + cv2.TERM_CRITERIA_EPS, 60, 0.001)\n",
    "        # Increase the pixel location accuracy\n",
    "        corners2 = cv2.cornerSubPix(gray, corners, (11, 11), (-1, -1), criteria)\n",
    "        return corners2\n",
    "    print(\"No chessboard : \", filename)\n",
    "    os.remove(filename)\n",
    "    return None"
   ]
  },
  {
   "cell_type": "code",
   "execution_count": 49,
   "metadata": {},
   "outputs": [
    {
     "data": {
      "text/plain": [
       "42"
      ]
     },
     "execution_count": 49,
     "metadata": {},
     "output_type": "execute_result"
    }
   ],
   "source": [
    "# internal corners of the grid\n",
    "width, height = 10, 7\n",
    "used_files = []\n",
    "imgpoints = []  # 2d points in image plane\n",
    "for f in files:\n",
    "    pixel_points = process_image(f, width=width, height=height)\n",
    "    if pixel_points is not None:\n",
    "        used_files.append(f)\n",
    "        imgpoints.append(pixel_points)\n",
    "len(imgpoints)"
   ]
  },
  {
   "cell_type": "code",
   "execution_count": 55,
   "metadata": {},
   "outputs": [
    {
     "data": {
      "text/plain": [
       "42"
      ]
     },
     "execution_count": 55,
     "metadata": {},
     "output_type": "execute_result"
    }
   ],
   "source": [
    "# We assume the checker pattern is kept in the Z=0 plane and the camera is moved and rotated\n",
    "# Prepare object points, like (0,0,0), (1,0,0), (2,0,0) ....,(6,5,0)\n",
    "objp = np.zeros((height*width, 3), np.float32)\n",
    "objp[:, :2] = np.mgrid[0:width, 0:height].T.reshape(-1, 2)\n",
    "\n",
    "# Scale the 3d points to the actual dimensinos\n",
    "squareSize = 23.55e-3  # meter\n",
    "# objp = objp*squareSize\n",
    "objpoints = []  # 3d point in  world space\n",
    "[objpoints.append(objp) for i in range(len(imgpoints))]\n",
    "len(objpoints)"
   ]
  },
  {
   "cell_type": "code",
   "execution_count": 56,
   "metadata": {},
   "outputs": [
    {
     "name": "stdout",
     "output_type": "stream",
     "text": [
      "RMS: 0.4073708165731539\n",
      "RMS: 0.426879810209654\n",
      "RMS: 0.44226250627703256\n",
      "RMS: 0.4579288798846129\n",
      "RMS: 0.45436362691285515\n",
      "RMS: 0.38294767403745555\n",
      "RMS: 0.7268607385219132\n",
      "RMS: 0.711484980121665\n",
      "RMS: 0.41850559660082043\n",
      "RMS: 0.3647333298336603\n"
     ]
    }
   ],
   "source": [
    "runs = 10\n",
    "mtx_sum = np.zeros((3,3))\n",
    "dist_sum = np.zeros((1,5))\n",
    "for r in range(runs):\n",
    "    batch = 25\n",
    "    idxs = random.sample(list(range(len(objpoints))), batch)\n",
    "    batch_obj, batch_img = [], []\n",
    "    for i in idxs:\n",
    "        batch_obj.append(objpoints[i])\n",
    "        batch_img.append(imgpoints[i])\n",
    "    img = cv2.imread(files[0])\n",
    "    rms, mtx, dist, rvecs, tvecs = cv2.calibrateCamera(batch_obj, batch_img, img.shape[1::-1], None, None)\n",
    "    mtx_sum += mtx\n",
    "    dist_sum += dist\n",
    "    print(\"RMS:\", rms)\n",
    "    # print(\"Camera Matrix:\\n\", mtx)\n",
    "    # print(\"Distortion Coefficients:\\n\", dist.ravel())"
   ]
  },
  {
   "cell_type": "code",
   "execution_count": 57,
   "metadata": {},
   "outputs": [
    {
     "name": "stdout",
     "output_type": "stream",
     "text": [
      "Camera Matrix:\n",
      " [[860.65480358   0.         950.2068911 ]\n",
      " [  0.         878.70893136 499.31480619]\n",
      " [  0.           0.           1.        ]]\n",
      "Distortion Coefficients:\n",
      " [-2.69952989e-01  1.06840266e-01 -3.42939036e-05  2.35622423e-04\n",
      " -2.36067936e-02]\n"
     ]
    }
   ],
   "source": [
    "mtx = mtx_sum/runs\n",
    "dist = dist_sum/runs\n",
    "print(\"Camera Matrix:\\n\", mtx)\n",
    "print(\"Distortion Coefficients:\\n\", dist.ravel())"
   ]
  },
  {
   "cell_type": "code",
   "execution_count": 58,
   "metadata": {},
   "outputs": [],
   "source": [
    "errors = np.zeros(batch)\n",
    "for i in range(len(rvecs)):\n",
    "    imgpoints2, _ = cv2.projectPoints(objpoints[i], rvecs[i], tvecs[i], mtx, dist)\n",
    "    error = cv2.norm(imgpoints[i], imgpoints2, cv2.NORM_L2)/len(imgpoints2)\n",
    "    errors[i] = error"
   ]
  },
  {
   "cell_type": "code",
   "execution_count": 59,
   "metadata": {},
   "outputs": [
    {
     "name": "stdout",
     "output_type": "stream",
     "text": [
      "images/gopro_hero_3_1080_w\\gopro_4_2628.jpg 61.321284497187634\n",
      "images/gopro_hero_3_1080_w\\gopro_3_679.jpg 59.19448464272196\n",
      "images/gopro_hero_3_1080_w\\gopro_2_1766.jpg 51.11888916779523\n",
      "images/gopro_hero_3_1080_w\\gopro_2_419.jpg 50.8375301470605\n",
      "images/gopro_hero_3_1080_w\\gopro_2_299.jpg 47.817093670010955\n",
      "images/gopro_hero_3_1080_w\\gopro_2_778.jpg 44.82350608722088\n",
      "images/gopro_hero_3_1080_w\\gopro_4_2411.jpg 39.211916749623335\n",
      "images/gopro_hero_3_1080_w\\gopro_1_352.jpg 38.28087773570755\n",
      "images/gopro_hero_3_1080_w\\gopro_1_359.jpg 34.37325189007433\n",
      "images/gopro_hero_3_1080_w\\gopro_2_1410.jpg 33.18907664760837\n",
      "images/gopro_hero_3_1080_w\\gopro_3_198.jpg 32.66517738420985\n",
      "images/gopro_hero_3_1080_w\\gopro_2_1023.jpg 32.34055380648357\n",
      "images/gopro_hero_3_1080_w\\gopro_4_2329.jpg 32.18884467555605\n",
      "images/gopro_hero_3_1080_w\\gopro_2_812.jpg 30.19651765688173\n",
      "images/gopro_hero_3_1080_w\\gopro_4_2071.jpg 28.08040046239429\n",
      "images/gopro_hero_3_1080_w\\gopro_2_265.jpg 27.788238651196682\n",
      "images/gopro_hero_3_1080_w\\gopro_1_396.jpg 21.577714236393852\n",
      "images/gopro_hero_3_1080_w\\gopro_3_236.jpg 20.621753476826587\n",
      "images/gopro_hero_3_1080_w\\gopro_2_1102.jpg 19.05807209081188\n",
      "images/gopro_hero_3_1080_w\\gopro_1_445.jpg 14.20681519636324\n",
      "images/gopro_hero_3_1080_w\\gopro_2_1064.jpg 11.937735825775686\n",
      "images/gopro_hero_3_1080_w\\gopro_2_606.jpg 11.155883255665934\n",
      "images/gopro_hero_3_1080_w\\gopro_2_1133.jpg 8.14730847323861\n",
      "images/gopro_hero_3_1080_w\\gopro_2_847.jpg 6.640977591218193\n",
      "images/gopro_hero_3_1080_w\\gopro_2_1379.jpg 0.14042444096990592\n"
     ]
    }
   ],
   "source": [
    "for i in reversed(np.argsort(errors)):\n",
    "    full_idx = idxs[i]\n",
    "    print(files[full_idx], errors[i])"
   ]
  }
 ],
 "metadata": {
  "kernelspec": {
   "display_name": "Python 3.9.7 ('uas')",
   "language": "python",
   "name": "python3"
  },
  "language_info": {
   "codemirror_mode": {
    "name": "ipython",
    "version": 3
   },
   "file_extension": ".py",
   "mimetype": "text/x-python",
   "name": "python",
   "nbconvert_exporter": "python",
   "pygments_lexer": "ipython3",
   "version": "3.9.7"
  },
  "orig_nbformat": 4,
  "vscode": {
   "interpreter": {
    "hash": "197461f6fc68d24ddf6c753501908c9b2be1ad8d7ca6df704494778f137222a6"
   }
  }
 },
 "nbformat": 4,
 "nbformat_minor": 2
}
